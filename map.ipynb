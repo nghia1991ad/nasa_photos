{
 "cells": [
  {
   "cell_type": "code",
   "execution_count": 1,
   "metadata": {},
   "outputs": [],
   "source": [
    "import folium\n",
    "import pandas as pd"
   ]
  },
  {
   "cell_type": "code",
   "execution_count": 2,
   "metadata": {},
   "outputs": [],
   "source": [
    "data = pd.DataFrame({\n",
    "'lat':[25.206570, 21.948285,22.644694],\n",
    "'lon':[121.690427,120.779818,120.316335],\n",
    "'name':['Yehliu','Kenting','Kaohsiung']\n",
    "})"
   ]
  },
  {
   "cell_type": "code",
   "execution_count": 24,
   "metadata": {},
   "outputs": [],
   "source": [
    "m = folium.Map(location=[24, 121],zoom_start=7, tiles=\"Stamen Terrain\")\n",
    "for i in range(0,len(data)):\n",
    "    html = folium.Html(\"\"\"<a href=\"https://www.google.com\" target=\"_blank\"> {} </a> \"\"\".format(data.iloc[i]['name']), script=True)\n",
    "    popup = folium.Popup(html, max_width=1000)\n",
    "    folium.Marker([data.iloc[i]['lat'],data.iloc[i]['lon']],popup=popup).add_to(m)"
   ]
  },
  {
   "cell_type": "code",
   "execution_count": 28,
   "metadata": {
    "scrolled": false
   },
   "outputs": [],
   "source": [
    "m.save(\"map.html\")"
   ]
  },
  {
   "cell_type": "code",
   "execution_count": null,
   "metadata": {},
   "outputs": [],
   "source": []
  }
 ],
 "metadata": {
  "kernelspec": {
   "display_name": "Python [conda env:folium]",
   "language": "python",
   "name": "conda-env-folium-py"
  },
  "language_info": {
   "codemirror_mode": {
    "name": "ipython",
    "version": 3
   },
   "file_extension": ".py",
   "mimetype": "text/x-python",
   "name": "python",
   "nbconvert_exporter": "python",
   "pygments_lexer": "ipython3",
   "version": "3.7.3"
  }
 },
 "nbformat": 4,
 "nbformat_minor": 2
}
