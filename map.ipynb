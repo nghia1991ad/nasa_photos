{
 "cells": [
  {
   "cell_type": "code",
   "execution_count": 1,
   "metadata": {},
   "outputs": [],
   "source": [
    "import folium\n",
    "import pandas as pd"
   ]
  },
  {
   "cell_type": "code",
   "execution_count": 2,
   "metadata": {},
   "outputs": [],
   "source": [
    "data = pd.DataFrame({\n",
    "'lat':[25.206570, 21.951734,25.158249],\n",
    "'lon':[121.690427,120.781248,121.768227],\n",
    "'name':['Yehliu','Kenting','Heping']\n",
    "})"
   ]
  },
  {
   "cell_type": "code",
   "execution_count": 3,
   "metadata": {},
   "outputs": [],
   "source": [
    "m = folium.Map(location=[24, 121],zoom_start=7, tiles=\"Stamen Terrain\")\n",
    "for i in range(0,len(data)):\n",
    "    html = folium.Html(\"\"\"<a href=\"https://www.google.com\" target=\"_blank\"> {} </a> \"\"\".format(data.iloc[i]['name']), script=True)\n",
    "    popup = folium.Popup(html, max_width=1000)\n",
    "    folium.Marker([data.iloc[i]['lat'],data.iloc[i]['lon']],popup=popup).add_to(m)"
   ]
  },
  {
   "cell_type": "code",
   "execution_count": null,
   "metadata": {
    "scrolled": false
   },
   "outputs": [],
   "source": [
    "m.save(\"map.html\")"
   ]
  },
  {
   "cell_type": "code",
   "execution_count": 4,
   "metadata": {},
   "outputs": [
    {
     "data": {
      "text/html": [
       "<div style=\"width:100%;\"><div style=\"position:relative;width:100%;height:0;padding-bottom:60%;\"><iframe src=\"data:text/html;charset=utf-8;base64,PCFET0NUWVBFIGh0bWw+CjxoZWFkPiAgICAKICAgIDxtZXRhIGh0dHAtZXF1aXY9ImNvbnRlbnQtdHlwZSIgY29udGVudD0idGV4dC9odG1sOyBjaGFyc2V0PVVURi04IiAvPgogICAgCiAgICAgICAgPHNjcmlwdD4KICAgICAgICAgICAgTF9OT19UT1VDSCA9IGZhbHNlOwogICAgICAgICAgICBMX0RJU0FCTEVfM0QgPSBmYWxzZTsKICAgICAgICA8L3NjcmlwdD4KICAgIAogICAgPHNjcmlwdCBzcmM9Imh0dHBzOi8vY2RuLmpzZGVsaXZyLm5ldC9ucG0vbGVhZmxldEAxLjUuMS9kaXN0L2xlYWZsZXQuanMiPjwvc2NyaXB0PgogICAgPHNjcmlwdCBzcmM9Imh0dHBzOi8vY29kZS5qcXVlcnkuY29tL2pxdWVyeS0xLjEyLjQubWluLmpzIj48L3NjcmlwdD4KICAgIDxzY3JpcHQgc3JjPSJodHRwczovL21heGNkbi5ib290c3RyYXBjZG4uY29tL2Jvb3RzdHJhcC8zLjIuMC9qcy9ib290c3RyYXAubWluLmpzIj48L3NjcmlwdD4KICAgIDxzY3JpcHQgc3JjPSJodHRwczovL2NkbmpzLmNsb3VkZmxhcmUuY29tL2FqYXgvbGlicy9MZWFmbGV0LmF3ZXNvbWUtbWFya2Vycy8yLjAuMi9sZWFmbGV0LmF3ZXNvbWUtbWFya2Vycy5qcyI+PC9zY3JpcHQ+CiAgICA8bGluayByZWw9InN0eWxlc2hlZXQiIGhyZWY9Imh0dHBzOi8vY2RuLmpzZGVsaXZyLm5ldC9ucG0vbGVhZmxldEAxLjUuMS9kaXN0L2xlYWZsZXQuY3NzIi8+CiAgICA8bGluayByZWw9InN0eWxlc2hlZXQiIGhyZWY9Imh0dHBzOi8vbWF4Y2RuLmJvb3RzdHJhcGNkbi5jb20vYm9vdHN0cmFwLzMuMi4wL2Nzcy9ib290c3RyYXAubWluLmNzcyIvPgogICAgPGxpbmsgcmVsPSJzdHlsZXNoZWV0IiBocmVmPSJodHRwczovL21heGNkbi5ib290c3RyYXBjZG4uY29tL2Jvb3RzdHJhcC8zLjIuMC9jc3MvYm9vdHN0cmFwLXRoZW1lLm1pbi5jc3MiLz4KICAgIDxsaW5rIHJlbD0ic3R5bGVzaGVldCIgaHJlZj0iaHR0cHM6Ly9tYXhjZG4uYm9vdHN0cmFwY2RuLmNvbS9mb250LWF3ZXNvbWUvNC42LjMvY3NzL2ZvbnQtYXdlc29tZS5taW4uY3NzIi8+CiAgICA8bGluayByZWw9InN0eWxlc2hlZXQiIGhyZWY9Imh0dHBzOi8vY2RuanMuY2xvdWRmbGFyZS5jb20vYWpheC9saWJzL0xlYWZsZXQuYXdlc29tZS1tYXJrZXJzLzIuMC4yL2xlYWZsZXQuYXdlc29tZS1tYXJrZXJzLmNzcyIvPgogICAgPGxpbmsgcmVsPSJzdHlsZXNoZWV0IiBocmVmPSJodHRwczovL3Jhd2Nkbi5naXRoYWNrLmNvbS9weXRob24tdmlzdWFsaXphdGlvbi9mb2xpdW0vbWFzdGVyL2ZvbGl1bS90ZW1wbGF0ZXMvbGVhZmxldC5hd2Vzb21lLnJvdGF0ZS5jc3MiLz4KICAgIDxzdHlsZT5odG1sLCBib2R5IHt3aWR0aDogMTAwJTtoZWlnaHQ6IDEwMCU7bWFyZ2luOiAwO3BhZGRpbmc6IDA7fTwvc3R5bGU+CiAgICA8c3R5bGU+I21hcCB7cG9zaXRpb246YWJzb2x1dGU7dG9wOjA7Ym90dG9tOjA7cmlnaHQ6MDtsZWZ0OjA7fTwvc3R5bGU+CiAgICAKICAgICAgICAgICAgPG1ldGEgbmFtZT0idmlld3BvcnQiIGNvbnRlbnQ9IndpZHRoPWRldmljZS13aWR0aCwKICAgICAgICAgICAgICAgIGluaXRpYWwtc2NhbGU9MS4wLCBtYXhpbXVtLXNjYWxlPTEuMCwgdXNlci1zY2FsYWJsZT1ubyIgLz4KICAgICAgICAgICAgPHN0eWxlPgogICAgICAgICAgICAgICAgI21hcF9mNDQ4YzhiMmU1YWY0ZjFkODY2YTg4MTcyNTk2ZjNhOCB7CiAgICAgICAgICAgICAgICAgICAgcG9zaXRpb246IHJlbGF0aXZlOwogICAgICAgICAgICAgICAgICAgIHdpZHRoOiAxMDAuMCU7CiAgICAgICAgICAgICAgICAgICAgaGVpZ2h0OiAxMDAuMCU7CiAgICAgICAgICAgICAgICAgICAgbGVmdDogMC4wJTsKICAgICAgICAgICAgICAgICAgICB0b3A6IDAuMCU7CiAgICAgICAgICAgICAgICB9CiAgICAgICAgICAgIDwvc3R5bGU+CiAgICAgICAgCjwvaGVhZD4KPGJvZHk+ICAgIAogICAgCiAgICAgICAgICAgIDxkaXYgY2xhc3M9ImZvbGl1bS1tYXAiIGlkPSJtYXBfZjQ0OGM4YjJlNWFmNGYxZDg2NmE4ODE3MjU5NmYzYTgiID48L2Rpdj4KICAgICAgICAKPC9ib2R5Pgo8c2NyaXB0PiAgICAKICAgIAogICAgICAgICAgICB2YXIgbWFwX2Y0NDhjOGIyZTVhZjRmMWQ4NjZhODgxNzI1OTZmM2E4ID0gTC5tYXAoCiAgICAgICAgICAgICAgICAibWFwX2Y0NDhjOGIyZTVhZjRmMWQ4NjZhODgxNzI1OTZmM2E4IiwKICAgICAgICAgICAgICAgIHsKICAgICAgICAgICAgICAgICAgICBjZW50ZXI6IFsyNC4wLCAxMjEuMF0sCiAgICAgICAgICAgICAgICAgICAgY3JzOiBMLkNSUy5FUFNHMzg1NywKICAgICAgICAgICAgICAgICAgICB6b29tOiA3LAogICAgICAgICAgICAgICAgICAgIHpvb21Db250cm9sOiB0cnVlLAogICAgICAgICAgICAgICAgICAgIHByZWZlckNhbnZhczogZmFsc2UsCiAgICAgICAgICAgICAgICB9CiAgICAgICAgICAgICk7CgogICAgICAgICAgICAKCiAgICAgICAgCiAgICAKICAgICAgICAgICAgdmFyIHRpbGVfbGF5ZXJfM2E4YjU5MmQ2MGJlNDZmMzkzZTI0MTc4YWQwNGYwNjUgPSBMLnRpbGVMYXllcigKICAgICAgICAgICAgICAgICJodHRwczovL3N0YW1lbi10aWxlcy17c30uYS5zc2wuZmFzdGx5Lm5ldC90ZXJyYWluL3t6fS97eH0ve3l9LmpwZyIsCiAgICAgICAgICAgICAgICB7ImF0dHJpYnV0aW9uIjogIk1hcCB0aWxlcyBieSBcdTAwM2NhIGhyZWY9XCJodHRwOi8vc3RhbWVuLmNvbVwiXHUwMDNlU3RhbWVuIERlc2lnblx1MDAzYy9hXHUwMDNlLCB1bmRlciBcdTAwM2NhIGhyZWY9XCJodHRwOi8vY3JlYXRpdmVjb21tb25zLm9yZy9saWNlbnNlcy9ieS8zLjBcIlx1MDAzZUNDIEJZIDMuMFx1MDAzYy9hXHUwMDNlLiBEYXRhIGJ5IFx1MDAyNmNvcHk7IFx1MDAzY2EgaHJlZj1cImh0dHA6Ly9vcGVuc3RyZWV0bWFwLm9yZ1wiXHUwMDNlT3BlblN0cmVldE1hcFx1MDAzYy9hXHUwMDNlLCB1bmRlciBcdTAwM2NhIGhyZWY9XCJodHRwOi8vY3JlYXRpdmVjb21tb25zLm9yZy9saWNlbnNlcy9ieS1zYS8zLjBcIlx1MDAzZUNDIEJZIFNBXHUwMDNjL2FcdTAwM2UuIiwgImRldGVjdFJldGluYSI6IGZhbHNlLCAibWF4TmF0aXZlWm9vbSI6IDE4LCAibWF4Wm9vbSI6IDE4LCAibWluWm9vbSI6IDAsICJub1dyYXAiOiBmYWxzZSwgIm9wYWNpdHkiOiAxLCAic3ViZG9tYWlucyI6ICJhYmMiLCAidG1zIjogZmFsc2V9CiAgICAgICAgICAgICkuYWRkVG8obWFwX2Y0NDhjOGIyZTVhZjRmMWQ4NjZhODgxNzI1OTZmM2E4KTsKICAgICAgICAKICAgIAogICAgICAgICAgICB2YXIgbWFya2VyXzI2MzYzOTg2YjU5MzRlNGU5MjEzMTE0N2IzNTQ1NjgzID0gTC5tYXJrZXIoCiAgICAgICAgICAgICAgICBbMjUuMjA2NTcsIDEyMS42OTA0MjddLAogICAgICAgICAgICAgICAge30KICAgICAgICAgICAgKS5hZGRUbyhtYXBfZjQ0OGM4YjJlNWFmNGYxZDg2NmE4ODE3MjU5NmYzYTgpOwogICAgICAgIAogICAgCiAgICAgICAgdmFyIHBvcHVwX2UyMDlkMDIzYTE2MTRjN2Y5YzhhZmJiZWYxZjRjYmQ5ID0gTC5wb3B1cCh7Im1heFdpZHRoIjogMTAwMH0pOwoKICAgICAgICAKICAgICAgICAgICAgdmFyIGh0bWxfNzUyYTUxYjZlYjFhNDA2ZjlhZTZjMDgzMGM0OTJlZTggPSAkKGA8ZGl2IGlkPSJodG1sXzc1MmE1MWI2ZWIxYTQwNmY5YWU2YzA4MzBjNDkyZWU4IiBzdHlsZT0id2lkdGg6IDEwMC4wJTsgaGVpZ2h0OiAxMDAuMCU7Ij48YSBocmVmPSJodHRwczovL3d3dy5nb29nbGUuY29tIiB0YXJnZXQ9Il9ibGFuayI+IFllaGxpdSA8L2E+IDwvZGl2PmApWzBdOwogICAgICAgICAgICBwb3B1cF9lMjA5ZDAyM2ExNjE0YzdmOWM4YWZiYmVmMWY0Y2JkOS5zZXRDb250ZW50KGh0bWxfNzUyYTUxYjZlYjFhNDA2ZjlhZTZjMDgzMGM0OTJlZTgpOwogICAgICAgIAoKICAgICAgICBtYXJrZXJfMjYzNjM5ODZiNTkzNGU0ZTkyMTMxMTQ3YjM1NDU2ODMuYmluZFBvcHVwKHBvcHVwX2UyMDlkMDIzYTE2MTRjN2Y5YzhhZmJiZWYxZjRjYmQ5KQogICAgICAgIDsKCiAgICAgICAgCiAgICAKICAgIAogICAgICAgICAgICB2YXIgbWFya2VyXzkxODVjZDY3YTI3ODRhNWQ5ZjQ1MjI3YTEwODg5NzdhID0gTC5tYXJrZXIoCiAgICAgICAgICAgICAgICBbMjEuOTUxNzM0LCAxMjAuNzgxMjQ4XSwKICAgICAgICAgICAgICAgIHt9CiAgICAgICAgICAgICkuYWRkVG8obWFwX2Y0NDhjOGIyZTVhZjRmMWQ4NjZhODgxNzI1OTZmM2E4KTsKICAgICAgICAKICAgIAogICAgICAgIHZhciBwb3B1cF9lOTljZmVmZWIwNGU0OTBlYmI1NzM4YzRmOGFiMjc5OCA9IEwucG9wdXAoeyJtYXhXaWR0aCI6IDEwMDB9KTsKCiAgICAgICAgCiAgICAgICAgICAgIHZhciBodG1sXzIyYzAzNTYwMmMyYzRkMTg5YTgyNmI3YjQ1NzdkYmY2ID0gJChgPGRpdiBpZD0iaHRtbF8yMmMwMzU2MDJjMmM0ZDE4OWE4MjZiN2I0NTc3ZGJmNiIgc3R5bGU9IndpZHRoOiAxMDAuMCU7IGhlaWdodDogMTAwLjAlOyI+PGEgaHJlZj0iaHR0cHM6Ly93d3cuZ29vZ2xlLmNvbSIgdGFyZ2V0PSJfYmxhbmsiPiBLZW50aW5nIDwvYT4gPC9kaXY+YClbMF07CiAgICAgICAgICAgIHBvcHVwX2U5OWNmZWZlYjA0ZTQ5MGViYjU3MzhjNGY4YWIyNzk4LnNldENvbnRlbnQoaHRtbF8yMmMwMzU2MDJjMmM0ZDE4OWE4MjZiN2I0NTc3ZGJmNik7CiAgICAgICAgCgogICAgICAgIG1hcmtlcl85MTg1Y2Q2N2EyNzg0YTVkOWY0NTIyN2ExMDg4OTc3YS5iaW5kUG9wdXAocG9wdXBfZTk5Y2ZlZmViMDRlNDkwZWJiNTczOGM0ZjhhYjI3OTgpCiAgICAgICAgOwoKICAgICAgICAKICAgIAogICAgCiAgICAgICAgICAgIHZhciBtYXJrZXJfMDc5N2ZmZjczMGU3NDQ3Mjg1MGQ0MTlmYWU0N2MxMDMgPSBMLm1hcmtlcigKICAgICAgICAgICAgICAgIFsyNS4xNTgyNDksIDEyMS43NjgyMjddLAogICAgICAgICAgICAgICAge30KICAgICAgICAgICAgKS5hZGRUbyhtYXBfZjQ0OGM4YjJlNWFmNGYxZDg2NmE4ODE3MjU5NmYzYTgpOwogICAgICAgIAogICAgCiAgICAgICAgdmFyIHBvcHVwX2I0ZTM5NTk1YjQyYjRmZWY5NmQyNjc1MDZlNDg3MmI4ID0gTC5wb3B1cCh7Im1heFdpZHRoIjogMTAwMH0pOwoKICAgICAgICAKICAgICAgICAgICAgdmFyIGh0bWxfMDNkYzUzMGU2YWJmNGI1MTg3ZjZmODUxYjMxYjljNTggPSAkKGA8ZGl2IGlkPSJodG1sXzAzZGM1MzBlNmFiZjRiNTE4N2Y2Zjg1MWIzMWI5YzU4IiBzdHlsZT0id2lkdGg6IDEwMC4wJTsgaGVpZ2h0OiAxMDAuMCU7Ij48YSBocmVmPSJodHRwczovL3d3dy5nb29nbGUuY29tIiB0YXJnZXQ9Il9ibGFuayI+IEhlcGluZyA8L2E+IDwvZGl2PmApWzBdOwogICAgICAgICAgICBwb3B1cF9iNGUzOTU5NWI0MmI0ZmVmOTZkMjY3NTA2ZTQ4NzJiOC5zZXRDb250ZW50KGh0bWxfMDNkYzUzMGU2YWJmNGI1MTg3ZjZmODUxYjMxYjljNTgpOwogICAgICAgIAoKICAgICAgICBtYXJrZXJfMDc5N2ZmZjczMGU3NDQ3Mjg1MGQ0MTlmYWU0N2MxMDMuYmluZFBvcHVwKHBvcHVwX2I0ZTM5NTk1YjQyYjRmZWY5NmQyNjc1MDZlNDg3MmI4KQogICAgICAgIDsKCiAgICAgICAgCiAgICAKPC9zY3JpcHQ+\" style=\"position:absolute;width:100%;height:100%;left:0;top:0;border:none !important;\" allowfullscreen webkitallowfullscreen mozallowfullscreen></iframe></div></div>"
      ],
      "text/plain": [
       "<folium.folium.Map at 0x1103ddc50>"
      ]
     },
     "execution_count": 4,
     "metadata": {},
     "output_type": "execute_result"
    }
   ],
   "source": [
    "m"
   ]
  },
  {
   "cell_type": "code",
   "execution_count": null,
   "metadata": {},
   "outputs": [],
   "source": []
  }
 ],
 "metadata": {
  "kernelspec": {
   "display_name": "Python [conda env:folium]",
   "language": "python",
   "name": "conda-env-folium-py"
  },
  "language_info": {
   "codemirror_mode": {
    "name": "ipython",
    "version": 3
   },
   "file_extension": ".py",
   "mimetype": "text/x-python",
   "name": "python",
   "nbconvert_exporter": "python",
   "pygments_lexer": "ipython3",
   "version": "3.7.3"
  }
 },
 "nbformat": 4,
 "nbformat_minor": 2
}
