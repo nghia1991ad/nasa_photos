{
 "cells": [
  {
   "cell_type": "code",
   "execution_count": 26,
   "metadata": {},
   "outputs": [],
   "source": [
    "from glob import glob\n",
    "from exif import Image\n",
    "import shutil\n",
    "import pandas as pd\n",
    "loc = \"yehliu\""
   ]
  },
  {
   "cell_type": "code",
   "execution_count": 27,
   "metadata": {},
   "outputs": [],
   "source": [
    "!rm -rf image_ready/img_pre.csv\n",
    "glob(\"result/cluster0/*\")\n",
    "for j in range(0,len(glob(\"result/cluster*\"))):\n",
    "    for file in glob(\"result/cluster{}/*\".format(j)):\n",
    "        with open(file, 'rb') as image_file:\n",
    "            my_image = Image(image_file)\n",
    "            yy,mm,dd = my_image.datetime.split(\" \")[0].split(\":\")\n",
    "            HH,MM,SS = my_image.datetime.split(\" \")[1].split(\":\")\n",
    "            print(\"{},{}{}{}{}{}{},{},{}/{}/{} {}:{}:{}\".format(file,yy,mm,dd,HH,MM,SS,j,yy,mm,dd,HH,MM,SS),file=open(\"image_ready/img_pre.csv\",\"a\"))\n",
    "            "
   ]
  },
  {
   "cell_type": "code",
   "execution_count": 28,
   "metadata": {
    "scrolled": false
   },
   "outputs": [
    {
     "data": {
      "text/html": [
       "<div>\n",
       "<style scoped>\n",
       "    .dataframe tbody tr th:only-of-type {\n",
       "        vertical-align: middle;\n",
       "    }\n",
       "\n",
       "    .dataframe tbody tr th {\n",
       "        vertical-align: top;\n",
       "    }\n",
       "\n",
       "    .dataframe thead th {\n",
       "        text-align: right;\n",
       "    }\n",
       "</style>\n",
       "<table border=\"1\" class=\"dataframe\">\n",
       "  <thead>\n",
       "    <tr style=\"text-align: right;\">\n",
       "      <th></th>\n",
       "      <th>file</th>\n",
       "      <th>time</th>\n",
       "      <th>cluster</th>\n",
       "      <th>datetime</th>\n",
       "    </tr>\n",
       "  </thead>\n",
       "  <tbody>\n",
       "    <tr>\n",
       "      <td>0</td>\n",
       "      <td>result/cluster0/27.jpg</td>\n",
       "      <td>20120214221715</td>\n",
       "      <td>0</td>\n",
       "      <td>2012/02/14 22:17:15</td>\n",
       "    </tr>\n",
       "    <tr>\n",
       "      <td>1</td>\n",
       "      <td>result/cluster0/51.jpg</td>\n",
       "      <td>20151105104737</td>\n",
       "      <td>0</td>\n",
       "      <td>2015/11/05 10:47:37</td>\n",
       "    </tr>\n",
       "    <tr>\n",
       "      <td>2</td>\n",
       "      <td>result/cluster0/42.jpg</td>\n",
       "      <td>20180116193813</td>\n",
       "      <td>0</td>\n",
       "      <td>2018/01/16 19:38:13</td>\n",
       "    </tr>\n",
       "    <tr>\n",
       "      <td>3</td>\n",
       "      <td>result/cluster0/122.jpg</td>\n",
       "      <td>20180403111931</td>\n",
       "      <td>0</td>\n",
       "      <td>2018/04/03 11:19:31</td>\n",
       "    </tr>\n",
       "    <tr>\n",
       "      <td>4</td>\n",
       "      <td>result/cluster0/55.jpg</td>\n",
       "      <td>20180515162400</td>\n",
       "      <td>0</td>\n",
       "      <td>2018/05/15 16:24:00</td>\n",
       "    </tr>\n",
       "  </tbody>\n",
       "</table>\n",
       "</div>"
      ],
      "text/plain": [
       "                      file            time  cluster             datetime\n",
       "0   result/cluster0/27.jpg  20120214221715        0  2012/02/14 22:17:15\n",
       "1   result/cluster0/51.jpg  20151105104737        0  2015/11/05 10:47:37\n",
       "2   result/cluster0/42.jpg  20180116193813        0  2018/01/16 19:38:13\n",
       "3  result/cluster0/122.jpg  20180403111931        0  2018/04/03 11:19:31\n",
       "4   result/cluster0/55.jpg  20180515162400        0  2018/05/15 16:24:00"
      ]
     },
     "execution_count": 28,
     "metadata": {},
     "output_type": "execute_result"
    }
   ],
   "source": [
    "df = pd.read_csv(\"image_ready/img_pre.csv\",header=None, names=[\"file\",\"time\",\"cluster\",\"datetime\"]).sort_values(by=[\"cluster\",\"time\"]).reset_index(drop=True)\n",
    "df.head()"
   ]
  },
  {
   "cell_type": "code",
   "execution_count": 29,
   "metadata": {
    "scrolled": false
   },
   "outputs": [
    {
     "name": "stdout",
     "output_type": "stream",
     "text": [
      "result/cluster0/27.jpg\n",
      "image_ready/img_yehliu_c0_0.jpg\n",
      "result/cluster0/51.jpg\n",
      "image_ready/img_yehliu_c0_1.jpg\n",
      "result/cluster0/42.jpg\n",
      "image_ready/img_yehliu_c0_2.jpg\n",
      "result/cluster0/122.jpg\n",
      "image_ready/img_yehliu_c0_3.jpg\n",
      "result/cluster0/55.jpg\n",
      "image_ready/img_yehliu_c0_4.jpg\n",
      "result/cluster0/120.jpg\n",
      "image_ready/img_yehliu_c0_5.jpg\n",
      "result/cluster0/20.jpg\n",
      "image_ready/img_yehliu_c0_6.jpg\n",
      "result/cluster0/133.jpg\n",
      "image_ready/img_yehliu_c0_7.jpg\n",
      "result/cluster1/248.jpg\n",
      "image_ready/img_yehliu_c1_0.jpg\n",
      "result/cluster1/241.jpg\n",
      "image_ready/img_yehliu_c1_1.jpg\n",
      "result/cluster1/285.jpg\n",
      "image_ready/img_yehliu_c1_2.jpg\n",
      "result/cluster1/29.jpg\n",
      "image_ready/img_yehliu_c1_3.jpg\n",
      "result/cluster1/38.jpg\n",
      "image_ready/img_yehliu_c1_4.jpg\n",
      "result/cluster1/1.jpg\n",
      "image_ready/img_yehliu_c1_5.jpg\n",
      "result/cluster1/154.jpg\n",
      "image_ready/img_yehliu_c1_6.jpg\n",
      "result/cluster1/4.jpg\n",
      "image_ready/img_yehliu_c1_7.jpg\n",
      "result/cluster1/16.jpg\n",
      "image_ready/img_yehliu_c1_8.jpg\n",
      "result/cluster1/17.jpg\n",
      "image_ready/img_yehliu_c1_9.jpg\n",
      "result/cluster1/32.jpg\n",
      "image_ready/img_yehliu_c1_10.jpg\n",
      "result/cluster1/173.jpg\n",
      "image_ready/img_yehliu_c1_11.jpg\n",
      "result/cluster1/9.jpg\n",
      "image_ready/img_yehliu_c1_12.jpg\n",
      "result/cluster1/47.jpg\n",
      "image_ready/img_yehliu_c1_13.jpg\n",
      "result/cluster1/151.jpg\n",
      "image_ready/img_yehliu_c1_14.jpg\n",
      "result/cluster1/57.jpg\n",
      "image_ready/img_yehliu_c1_15.jpg\n",
      "result/cluster1/24.jpg\n",
      "image_ready/img_yehliu_c1_16.jpg\n",
      "result/cluster1/141.jpg\n",
      "image_ready/img_yehliu_c1_17.jpg\n",
      "result/cluster1/137.jpg\n",
      "image_ready/img_yehliu_c1_18.jpg\n",
      "result/cluster1/271.jpg\n",
      "image_ready/img_yehliu_c1_19.jpg\n",
      "result/cluster1/232.jpg\n",
      "image_ready/img_yehliu_c1_20.jpg\n",
      "result/cluster1/288.jpg\n",
      "image_ready/img_yehliu_c1_21.jpg\n",
      "result/cluster1/142.jpg\n",
      "image_ready/img_yehliu_c1_22.jpg\n",
      "result/cluster1/143.jpg\n",
      "image_ready/img_yehliu_c1_23.jpg\n",
      "result/cluster1/0.jpg\n",
      "image_ready/img_yehliu_c1_24.jpg\n"
     ]
    }
   ],
   "source": [
    "!rm -rf image_ready/*jpg\n",
    "# for j in range(0,len(glob(\"result/cluster*\"))):\n",
    "#     i = 0\n",
    "#     for file in glob(\"result/cluster{}/*\".format(j)):\n",
    "#         i += 1\n",
    "#         with open(file, 'rb') as image_file:\n",
    "#             my_image = Image(image_file)        \n",
    "#             yy,mm,dd = my_image.datetime.split(\" \")[0].split(\":\")\n",
    "#             HH,MM,SS = my_image.datetime.split(\" \")[1].split(\":\")\n",
    "#             print(\"img_{}_{}_{}.jpg {}_{}_{}_{}_{}_{}\".format(loc,file.split(\"/\")[1],i,yy,mm,dd,HH,MM,SS),file=open(\"img.csv\",\"a\"))\n",
    "#             shutil.copy(file,\"image_ready/img_{}_{}_{}.jpg\".format(loc,file.split(\"/\")[1],i))\n",
    "row_list = []\n",
    "for cluster in df.cluster.unique():\n",
    "    dfc = df[df.cluster == cluster].reset_index(drop=True)\n",
    "    for i in range(0,len(dfc)):\n",
    "        print(dfc.file[i])\n",
    "        print(\"image_ready/img_{}_c{}_{}.jpg\".format(loc,dfc.cluster[i],i))\n",
    "        shutil.copy(dfc.file[i],\"image_ready/img_{}_c{}_{}.jpg\".format(loc,dfc.cluster[i],i))\n",
    "        row = {\"file\":\"img_{}_c{}_{}.jpg\".format(loc,dfc.cluster[i],i),\n",
    "               \"time\":dfc.datetime[i]}\n",
    "        row_list.append(row)\n",
    "df_sum = pd.DataFrame(row_list)\n",
    "        \n",
    "        \n",
    "        "
   ]
  },
  {
   "cell_type": "code",
   "execution_count": 30,
   "metadata": {},
   "outputs": [],
   "source": [
    "df_sum.to_csv(\"image_ready/img.csv\",index=False)"
   ]
  },
  {
   "cell_type": "code",
   "execution_count": null,
   "metadata": {},
   "outputs": [],
   "source": []
  }
 ],
 "metadata": {
  "kernelspec": {
   "display_name": "Python [conda env:photo]",
   "language": "python",
   "name": "conda-env-photo-py"
  },
  "language_info": {
   "codemirror_mode": {
    "name": "ipython",
    "version": 3
   },
   "file_extension": ".py",
   "mimetype": "text/x-python",
   "name": "python",
   "nbconvert_exporter": "python",
   "pygments_lexer": "ipython3",
   "version": "3.7.3"
  }
 },
 "nbformat": 4,
 "nbformat_minor": 2
}
