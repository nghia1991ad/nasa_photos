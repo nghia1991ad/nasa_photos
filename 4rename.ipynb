{
 "cells": [
  {
   "cell_type": "code",
   "execution_count": 27,
   "metadata": {},
   "outputs": [],
   "source": [
    "from glob import glob\n",
    "from exif import Image\n",
    "import shutil\n",
    "loc = \"yehliu\""
   ]
  },
  {
   "cell_type": "code",
   "execution_count": 30,
   "metadata": {},
   "outputs": [
    {
     "name": "stdout",
     "output_type": "stream",
     "text": [
      "image_ready/img_yehliu_cluster0_20180812_005958.jpg\n",
      "image_ready/img_yehliu_cluster0_20180403_111931.jpg\n",
      "image_ready/img_yehliu_cluster0_20181229_070919.jpg\n",
      "image_ready/img_yehliu_cluster0_20181022_212247.jpg\n",
      "image_ready/img_yehliu_cluster0_20120214_221715.jpg\n",
      "image_ready/img_yehliu_cluster0_20180116_193813.jpg\n",
      "image_ready/img_yehliu_cluster0_20151105_104737.jpg\n",
      "image_ready/img_yehliu_cluster0_20180515_162400.jpg\n",
      "image_ready/img_yehliu_cluster1_20190323_100658.jpg\n",
      "image_ready/img_yehliu_cluster1_20151016_191335.jpg\n",
      "image_ready/img_yehliu_cluster1_20180403_133025.jpg\n",
      "image_ready/img_yehliu_cluster1_20180403_133005.jpg\n",
      "image_ready/img_yehliu_cluster1_20181023_110933.jpg\n",
      "image_ready/img_yehliu_cluster1_20181229_224515.jpg\n",
      "image_ready/img_yehliu_cluster1_20171127_175459.jpg\n",
      "image_ready/img_yehliu_cluster1_20161116_010909.jpg\n",
      "image_ready/img_yehliu_cluster1_20170322_003018.jpg\n",
      "image_ready/img_yehliu_cluster1_20170322_003018.jpg\n",
      "image_ready/img_yehliu_cluster1_20170530_002605.jpg\n",
      "image_ready/img_yehliu_cluster1_20181019_191810.jpg\n",
      "image_ready/img_yehliu_cluster1_20180308_152946.jpg\n",
      "image_ready/img_yehliu_cluster1_20121124_225538.jpg\n",
      "image_ready/img_yehliu_cluster1_20120708_105657.jpg\n",
      "image_ready/img_yehliu_cluster1_20180403_133034.jpg\n",
      "image_ready/img_yehliu_cluster1_20131026_142811.jpg\n",
      "image_ready/img_yehliu_cluster1_20181023_110732.jpg\n",
      "image_ready/img_yehliu_cluster1_20140206_160225.jpg\n",
      "image_ready/img_yehliu_cluster1_20170404_160334.jpg\n",
      "image_ready/img_yehliu_cluster1_20141225_032344.jpg\n",
      "image_ready/img_yehliu_cluster1_20161230_113308.jpg\n",
      "image_ready/img_yehliu_cluster1_20170909_001826.jpg\n",
      "image_ready/img_yehliu_cluster1_20171225_170805.jpg\n",
      "image_ready/img_yehliu_cluster1_20170711_123356.jpg\n"
     ]
    }
   ],
   "source": [
    "for file in glob(\"result/*/*\"):\n",
    "    with open(file, 'rb') as image_file:\n",
    "        my_image = Image(image_file)        \n",
    "        yy,mm,dd = my_image.datetime.split(\" \")[0].split(\":\")\n",
    "        HH,MM,SS = my_image.datetime.split(\" \")[1].split(\":\")\n",
    "        print(\"image_ready/img_{}_{}_{}{}{}_{}{}{}.jpg\".format(loc,file.split(\"/\")[1],yy,mm,dd,HH,MM,SS))\n",
    "        shutil.copy(file,\"image_ready/img_{}_{}_{}{}{}_{}{}{}.jpg\".format(loc,file.split(\"/\")[1],yy,mm,dd,HH,MM,SS))"
   ]
  },
  {
   "cell_type": "code",
   "execution_count": null,
   "metadata": {},
   "outputs": [],
   "source": []
  }
 ],
 "metadata": {
  "kernelspec": {
   "display_name": "Python [conda env:photo]",
   "language": "python",
   "name": "conda-env-photo-py"
  },
  "language_info": {
   "codemirror_mode": {
    "name": "ipython",
    "version": 3
   },
   "file_extension": ".py",
   "mimetype": "text/x-python",
   "name": "python",
   "nbconvert_exporter": "python",
   "pygments_lexer": "ipython3",
   "version": "3.7.3"
  }
 },
 "nbformat": 4,
 "nbformat_minor": 2
}
