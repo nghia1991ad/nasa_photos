{
 "cells": [
  {
   "cell_type": "code",
   "execution_count": 38,
   "metadata": {},
   "outputs": [],
   "source": [
    "from glob import glob\n",
    "from exif import Image\n",
    "import shutil\n",
    "import pandas as pd\n",
    "loc = \"yehliu\""
   ]
  },
  {
   "cell_type": "code",
   "execution_count": 67,
   "metadata": {},
   "outputs": [],
   "source": [
    "!rm -rf image_ready/img_pre.csv\n",
    "glob(\"result/cluster0/*\")\n",
    "for j in range(0,len(glob(\"result/cluster*\"))):\n",
    "    for file in glob(\"result/cluster{}/*\".format(j)):\n",
    "        with open(file, 'rb') as image_file:\n",
    "            my_image = Image(image_file)\n",
    "            yy,mm,dd = my_image.datetime.split(\" \")[0].split(\":\")\n",
    "            HH,MM,SS = my_image.datetime.split(\" \")[1].split(\":\")\n",
    "            print(\"{},{}{}{}{}{}{},{}\".format(file,yy,mm,dd,HH,MM,SS,j),file=open(\"image_ready/img_pre.csv\",\"a\"))"
   ]
  },
  {
   "cell_type": "code",
   "execution_count": 68,
   "metadata": {
    "scrolled": false
   },
   "outputs": [
    {
     "data": {
      "text/html": [
       "<div>\n",
       "<style scoped>\n",
       "    .dataframe tbody tr th:only-of-type {\n",
       "        vertical-align: middle;\n",
       "    }\n",
       "\n",
       "    .dataframe tbody tr th {\n",
       "        vertical-align: top;\n",
       "    }\n",
       "\n",
       "    .dataframe thead th {\n",
       "        text-align: right;\n",
       "    }\n",
       "</style>\n",
       "<table border=\"1\" class=\"dataframe\">\n",
       "  <thead>\n",
       "    <tr style=\"text-align: right;\">\n",
       "      <th></th>\n",
       "      <th>file</th>\n",
       "      <th>time</th>\n",
       "      <th>cluster</th>\n",
       "    </tr>\n",
       "  </thead>\n",
       "  <tbody>\n",
       "    <tr>\n",
       "      <td>0</td>\n",
       "      <td>result/cluster0/27.jpg</td>\n",
       "      <td>20120214221715</td>\n",
       "      <td>0</td>\n",
       "    </tr>\n",
       "    <tr>\n",
       "      <td>1</td>\n",
       "      <td>result/cluster0/51.jpg</td>\n",
       "      <td>20151105104737</td>\n",
       "      <td>0</td>\n",
       "    </tr>\n",
       "    <tr>\n",
       "      <td>2</td>\n",
       "      <td>result/cluster0/42.jpg</td>\n",
       "      <td>20180116193813</td>\n",
       "      <td>0</td>\n",
       "    </tr>\n",
       "    <tr>\n",
       "      <td>3</td>\n",
       "      <td>result/cluster0/122.jpg</td>\n",
       "      <td>20180403111931</td>\n",
       "      <td>0</td>\n",
       "    </tr>\n",
       "    <tr>\n",
       "      <td>4</td>\n",
       "      <td>result/cluster0/55.jpg</td>\n",
       "      <td>20180515162400</td>\n",
       "      <td>0</td>\n",
       "    </tr>\n",
       "  </tbody>\n",
       "</table>\n",
       "</div>"
      ],
      "text/plain": [
       "                      file            time  cluster\n",
       "0   result/cluster0/27.jpg  20120214221715        0\n",
       "1   result/cluster0/51.jpg  20151105104737        0\n",
       "2   result/cluster0/42.jpg  20180116193813        0\n",
       "3  result/cluster0/122.jpg  20180403111931        0\n",
       "4   result/cluster0/55.jpg  20180515162400        0"
      ]
     },
     "execution_count": 68,
     "metadata": {},
     "output_type": "execute_result"
    }
   ],
   "source": [
    "df = pd.read_csv(\"image_ready/img_pre.csv\",header=None, names=[\"file\",\"time\",\"cluster\"]).sort_values(by=[\"cluster\",\"time\"]).reset_index(drop=True)\n",
    "df.to_csv(\"image_ready/img.csv\",index=False)\n",
    "df.head()"
   ]
  },
  {
   "cell_type": "code",
   "execution_count": 71,
   "metadata": {
    "scrolled": true
   },
   "outputs": [
    {
     "name": "stdout",
     "output_type": "stream",
     "text": [
      "result/cluster0/27.jpg\n",
      "0\n"
     ]
    },
    {
     "ename": "IndexError",
     "evalue": "tuple index out of range",
     "output_type": "error",
     "traceback": [
      "\u001b[0;31m---------------------------------------------------------------------------\u001b[0m",
      "\u001b[0;31mIndexError\u001b[0m                                Traceback (most recent call last)",
      "\u001b[0;32m<ipython-input-71-25cc12ed8328>\u001b[0m in \u001b[0;36m<module>\u001b[0;34m\u001b[0m\n\u001b[1;32m     13\u001b[0m     \u001b[0mprint\u001b[0m\u001b[0;34m(\u001b[0m\u001b[0mdf\u001b[0m\u001b[0;34m.\u001b[0m\u001b[0mfile\u001b[0m\u001b[0;34m[\u001b[0m\u001b[0mi\u001b[0m\u001b[0;34m]\u001b[0m\u001b[0;34m)\u001b[0m\u001b[0;34m\u001b[0m\u001b[0;34m\u001b[0m\u001b[0m\n\u001b[1;32m     14\u001b[0m     \u001b[0mprint\u001b[0m\u001b[0;34m(\u001b[0m\u001b[0mi\u001b[0m\u001b[0;34m)\u001b[0m\u001b[0;34m\u001b[0m\u001b[0;34m\u001b[0m\u001b[0m\n\u001b[0;32m---> 15\u001b[0;31m     \u001b[0mshutil\u001b[0m\u001b[0;34m.\u001b[0m\u001b[0mcopy\u001b[0m\u001b[0;34m(\u001b[0m\u001b[0mdf\u001b[0m\u001b[0;34m.\u001b[0m\u001b[0mfile\u001b[0m\u001b[0;34m[\u001b[0m\u001b[0mi\u001b[0m\u001b[0;34m]\u001b[0m\u001b[0;34m,\u001b[0m\u001b[0;34m\"image_ready/img_{}_c{}_{}.jpg\"\u001b[0m\u001b[0;34m.\u001b[0m\u001b[0mformat\u001b[0m\u001b[0;34m(\u001b[0m\u001b[0mloc\u001b[0m\u001b[0;34m,\u001b[0m\u001b[0mdf\u001b[0m\u001b[0;34m.\u001b[0m\u001b[0mcluster\u001b[0m\u001b[0;34m[\u001b[0m\u001b[0mi\u001b[0m\u001b[0;34m]\u001b[0m\u001b[0;34m)\u001b[0m\u001b[0;34m,\u001b[0m\u001b[0mi\u001b[0m\u001b[0;34m)\u001b[0m\u001b[0;34m\u001b[0m\u001b[0;34m\u001b[0m\u001b[0m\n\u001b[0m\u001b[1;32m     16\u001b[0m \u001b[0;34m\u001b[0m\u001b[0m\n\u001b[1;32m     17\u001b[0m \u001b[0;34m\u001b[0m\u001b[0m\n",
      "\u001b[0;31mIndexError\u001b[0m: tuple index out of range"
     ]
    }
   ],
   "source": [
    "!rm -rf image_ready/*\n",
    "# for j in range(0,len(glob(\"result/cluster*\"))):\n",
    "#     i = 0\n",
    "#     for file in glob(\"result/cluster{}/*\".format(j)):\n",
    "#         i += 1\n",
    "#         with open(file, 'rb') as image_file:\n",
    "#             my_image = Image(image_file)        \n",
    "#             yy,mm,dd = my_image.datetime.split(\" \")[0].split(\":\")\n",
    "#             HH,MM,SS = my_image.datetime.split(\" \")[1].split(\":\")\n",
    "#             print(\"img_{}_{}_{}.jpg {}_{}_{}_{}_{}_{}\".format(loc,file.split(\"/\")[1],i,yy,mm,dd,HH,MM,SS),file=open(\"img.csv\",\"a\"))\n",
    "#             shutil.copy(file,\"image_ready/img_{}_{}_{}.jpg\".format(loc,file.split(\"/\")[1],i))\n",
    "for i in range(0,len(df)):\n",
    "    print(df.file[i])\n",
    "    print(i)\n",
    "    shutil.copy(df.file[i],\"image_ready/img_{}_c{}_{}.jpg\".format(loc,df.cluster[i]),i)\n",
    "        \n",
    "        \n",
    "        "
   ]
  },
  {
   "cell_type": "code",
   "execution_count": null,
   "metadata": {},
   "outputs": [],
   "source": []
  }
 ],
 "metadata": {
  "kernelspec": {
   "display_name": "Python [conda env:photo]",
   "language": "python",
   "name": "conda-env-photo-py"
  },
  "language_info": {
   "codemirror_mode": {
    "name": "ipython",
    "version": 3
   },
   "file_extension": ".py",
   "mimetype": "text/x-python",
   "name": "python",
   "nbconvert_exporter": "python",
   "pygments_lexer": "ipython3",
   "version": "3.7.3"
  }
 },
 "nbformat": 4,
 "nbformat_minor": 2
}
