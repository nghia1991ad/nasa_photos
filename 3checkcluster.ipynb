{
 "cells": [
  {
   "cell_type": "code",
   "execution_count": 1,
   "metadata": {},
   "outputs": [
    {
     "name": "stderr",
     "output_type": "stream",
     "text": [
      "Using TensorFlow backend.\n"
     ]
    }
   ],
   "source": [
    "from keras.applications.resnet50 import ResNet50\n",
    "from keras.preprocessing import image\n",
    "from keras.applications.resnet50 import preprocess_input, decode_predictions\n",
    "import numpy as np\n",
    "from glob import glob\n",
    "import collections\n",
    "\n",
    "model = ResNet50(weights='imagenet')\n"
   ]
  },
  {
   "cell_type": "code",
   "execution_count": 2,
   "metadata": {},
   "outputs": [
    {
     "name": "stdout",
     "output_type": "stream",
     "text": [
      "Cluster 0\n",
      "Counter({'cliff': 25, 'seashore': 21, 'promontory': 16, 'valley': 9, 'wreck': 7, 'dock': 7, 'breakwater': 5, 'sea_lion': 5, 'cliff_dwelling': 4, 'sarong': 3, 'lakeside': 3, 'pier': 3, 'alp': 3, 'fountain': 3, 'reel': 3, 'stone_wall': 3, 'container_ship': 3, 'dung_beetle': 2, 'conch': 2, 'monastery': 2, 'sandbar': 2, 'cab': 2, 'prison': 2, 'ice_bear': 2, 'jinrikisha': 2, 'lumbermill': 2, 'car_mirror': 2, 'hen-of-the-woods': 2, 'megalith': 2, 'beacon': 2, 'swimming_trunks': 1, 'maillot': 1, 'baseball': 1, 'otter': 1, 'triumphal_arch': 1, 'castle': 1, 'crate': 1, 'doormat': 1, 'racer': 1, 'trolleybus': 1, 'streetcar': 1, 'scoreboard': 1, 'liner': 1, 'honeycomb': 1, 'submarine': 1, 'shovel': 1, 'snow_leopard': 1, 'geyser': 1, 'water_snake': 1, 'flute': 1, 'pay-phone': 1, 'patio': 1, 'thatch': 1, 'Labrador_retriever': 1, 'flat-coated_retriever': 1, 'groenendael': 1, 'sunglass': 1, 'sunglasses': 1, 'bakery': 1, 'confectionery': 1, 'grocery_store': 1, 'corn': 1, 'running_shoe': 1, 'jigsaw_puzzle': 1, 'prayer_rug': 1, 'hippopotamus': 1, 'chimpanzee': 1, 'coho': 1, 'paddle': 1, 'steel_arch_bridge': 1, 'suspension_bridge': 1, 'maze': 1, 'pirate': 1, 'gondola': 1, 'terrapin': 1, 'trilobite': 1, 'bow': 1, 'stupa': 1, 'brass': 1, 'worm_fence': 1, 'picket_fence': 1, 'bannister': 1, 'harvester': 1, 'cannon': 1, 'drilling_platform': 1, 'altar': 1, 'sweatshirt': 1, 'horizontal_bar': 1, 'dough': 1, 'bathtub': 1, 'jean': 1, 'gown': 1, 'garbage_truck': 1, 'rotisserie': 1})\n",
      "Cluster 1\n",
      "Counter({'toucan': 3, 'coucal': 2, 'bald_eagle': 2, 'hornbill': 1, 'magpie': 1})\n",
      "Cluster 2\n",
      "Counter({'castle': 14, 'lakeside': 10, 'promontory': 6, 'cliff': 4, 'pier': 2, 'bell_cote': 2, 'thatch': 1, 'monastery': 1, 'palace': 1, 'valley': 1})\n",
      "Cluster 3\n",
      "Counter({'seashore': 25, 'beacon': 20, 'breakwater': 9, 'promontory': 9, 'castle': 7, 'lakeside': 4, 'tripod': 2, 'geyser': 2, 'cliff': 1, 'starfish': 1, 'beaver': 1, 'church': 1, 'stupa': 1, 'dock': 1, 'volcano': 1, 'conch': 1, 'bubble': 1})\n",
      "Cluster 4\n",
      "Counter({'lifeboat': 1, 'breakwater': 1, 'cliff': 1})\n",
      "Cluster 5\n",
      "Counter({'schipperke': 1, 'Chihuahua': 1, 'miniature_pinscher': 1})\n",
      "Cluster 6\n",
      "Counter({'promontory': 48, 'cliff': 37, 'seashore': 28, 'valley': 24, 'breakwater': 18, 'beacon': 11, 'lakeside': 10, 'castle': 10, 'sandbar': 5, 'alp': 3, 'dam': 2, 'thatch': 2, 'boathouse': 2, 'wreck': 2, 'stone_wall': 2, 'worm_fence': 2, 'monastery': 1, 'vizsla': 1, 'Weimaraner': 1, 'Chesapeake_Bay_retriever': 1, 'amphibian': 1, 'paddle': 1, 'canoe': 1, 'lifeboat': 1, 'container_ship': 1, 'jeep': 1, 'conch': 1, 'fountain': 1, 'geyser': 1, 'volcano': 1, 'sarong': 1, 'steel_arch_bridge': 1, 'pier': 1, 'sea_lion': 1, 'Arabian_camel': 1})\n",
      "Cluster 7\n",
      "Counter({'promontory': 18, 'cliff': 14, 'seashore': 11, 'breakwater': 5, 'conch': 5, 'lakeside': 4, 'hen-of-the-woods': 2, 'castle': 1, 'sea_lion': 1, 'otter': 1, 'stone_wall': 1, 'beacon': 1, 'alp': 1, 'geyser': 1, 'wreck': 1, 'hippopotamus': 1, 'coral_fungus': 1, 'coral_reef': 1, 'thatch': 1, 'monastery': 1})\n",
      "Cluster 8\n",
      "Counter({'bald_eagle': 4, 'water_ouzel': 2, 'kite': 2, 'coucal': 1, 'porcupine': 1, 'ruffed_grouse': 1, 'chickadee': 1, 'hummingbird': 1, 'airliner': 1, 'warplane': 1})\n",
      "Cluster 9\n",
      "Counter({'breakwater': 10, 'promontory': 4, 'sandbar': 4, 'swimming_trunks': 4, 'coho': 4, 'reel': 3, 'pier': 3, 'seashore': 3, 'lakeside': 3, 'cliff': 2, 'container_ship': 2, 'canoe': 2, 'snorkel': 2, 'cash_machine': 1, 'paddlewheel': 1, 'bannister': 1, 'submarine': 1, 'steel_arch_bridge': 1, 'suspension_bridge': 1, 'maze': 1, 'stupa': 1, 'cannon': 1, 'pedestal': 1, 'fountain': 1})\n",
      "Cluster 10\n",
      "Counter()\n",
      "Cluster 11\n",
      "Counter()\n",
      "Cluster 12\n",
      "Counter()\n",
      "Cluster 13\n",
      "Counter()\n",
      "Cluster 14\n",
      "Counter()\n"
     ]
    }
   ],
   "source": [
    "for j in range(0,len(glob(\"output/cluster*\")):\n",
    "    print(\"Cluster {}\".format(j))\n",
    "    cluster_type = []\n",
    "    for img_path in glob(\"output/cluster{}/*\".format(j)):\n",
    "        img = image.load_img(img_path, target_size=(224, 224))\n",
    "        x = image.img_to_array(img)\n",
    "        x = np.expand_dims(x, axis=0)\n",
    "        x = preprocess_input(x)\n",
    "        preds = model.predict(x)\n",
    "        for i in np.array(decode_predictions(preds, top=3)[0])[:,1]:\n",
    "            cluster_type.append(i)\n",
    "    print(collections.Counter(cluster_type))"
   ]
  },
  {
   "cell_type": "code",
   "execution_count": null,
   "metadata": {},
   "outputs": [],
   "source": []
  }
 ],
 "metadata": {
  "kernelspec": {
   "display_name": "Python [conda env:photo]",
   "language": "python",
   "name": "conda-env-photo-py"
  },
  "language_info": {
   "codemirror_mode": {
    "name": "ipython",
    "version": 3
   },
   "file_extension": ".py",
   "mimetype": "text/x-python",
   "name": "python",
   "nbconvert_exporter": "python",
   "pygments_lexer": "ipython3",
   "version": "3.7.3"
  }
 },
 "nbformat": 4,
 "nbformat_minor": 2
}
