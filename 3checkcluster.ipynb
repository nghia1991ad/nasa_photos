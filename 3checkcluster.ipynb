{
 "cells": [
  {
   "cell_type": "code",
   "execution_count": 20,
   "metadata": {},
   "outputs": [],
   "source": [
    "from keras.applications.resnet50 import ResNet50\n",
    "from keras.preprocessing import image\n",
    "from keras.applications.resnet50 import preprocess_input, decode_predictions\n",
    "import numpy as np\n",
    "from glob import glob\n",
    "import collections\n",
    "\n",
    "model = ResNet50(weights='imagenet')\n"
   ]
  },
  {
   "cell_type": "code",
   "execution_count": 38,
   "metadata": {},
   "outputs": [
    {
     "name": "stdout",
     "output_type": "stream",
     "text": [
      "Cluster 0\n",
      "Counter({'seashore': 22, 'breakwater': 22, 'promontory': 14, 'sandbar': 10, 'cliff': 5, 'lakeside': 4, 'beacon': 3, 'wreck': 2, 'megalith': 1, 'picket_fence': 1, 'sea_lion': 1, 'submarine': 1, 'Arabian_camel': 1, 'puffer': 1, 'honeycomb': 1, 'conch': 1})\n",
      "Cluster 1\n",
      "Counter({'promontory': 18, 'cliff': 18, 'breakwater': 17, 'seashore': 10, 'wreck': 3, 'volcano': 1, 'geyser': 1, 'beacon': 1})\n",
      "Cluster 2\n",
      "Counter({'seashore': 12, 'beacon': 10, 'cliff': 5, 'promontory': 4, 'breakwater': 3, 'lakeside': 3, 'castle': 3, 'volcano': 2, 'starfish': 1, 'space_shuttle': 1, 'drilling_platform': 1, 'patio': 1, 'crane': 1, 'spotlight': 1, 'bannister': 1, 'geyser': 1, 'web_site': 1})\n",
      "Cluster 3\n",
      "Counter({'breakwater': 3, 'seashore': 2, 'promontory': 2, 'geyser': 1, 'megalith': 1})\n",
      "Cluster 4\n",
      "Counter({'promontory': 24, 'seashore': 20, 'cliff': 17, 'breakwater': 13, 'sandbar': 10, 'lakeside': 6, 'sea_lion': 3, 'megalith': 3, 'wreck': 2, 'stingray': 2, 'volcano': 2, 'cliff_dwelling': 2, 'beacon': 2, 'valley': 1, 'geyser': 1, 'great_white_shark': 1, 'fountain': 1, 'chiton': 1, 'trilobite': 1, 'grey_whale': 1, 'ptarmigan': 1, 'coral_reef': 1, 'bikini': 1, 'swimming_trunks': 1})\n",
      "Cluster 5\n",
      "Counter({'obelisk': 1, 'beacon': 1, 'missile': 1})\n",
      "Cluster 6\n",
      "Counter({'breakwater': 3, 'promontory': 3, 'seashore': 2, 'mongoose': 1, 'meerkat': 1, 'castle': 1, 'sea_lion': 1})\n",
      "Cluster 7\n",
      "Counter({'seashore': 32, 'promontory': 28, 'cliff': 16, 'breakwater': 14, 'sandbar': 7, 'lakeside': 4, 'sea_lion': 4, 'wreck': 3, 'beacon': 3, 'conch': 2, 'Arabian_camel': 1, 'castle': 1, 'sarong': 1, 'swimming_trunks': 1, 'binoculars': 1, 'umbrella': 1, 'cuirass': 1, 'breastplate': 1, 'planetarium': 1, 'jeep': 1})\n",
      "Cluster 8\n",
      "Counter({'seashore': 24, 'promontory': 19, 'breakwater': 13, 'cliff': 12, 'wreck': 8, 'beacon': 3, 'lakeside': 3, 'sandbar': 3, 'castle': 2, 'mountain_bike': 2, 'alp': 2, 'great_white_shark': 1, 'maillot': 1, 'megalith': 1, 'bucket': 1, 'crutch': 1, 'valley': 1, 'volcano': 1, 'geyser': 1})\n",
      "Cluster 9\n",
      "Counter({'promontory': 2, 'cliff': 1, 'lakeside': 1, 'coral_reef': 1, 'seashore': 1})\n",
      "Cluster 10\n",
      "Counter({'wreck': 3, 'cliff': 3, 'lakeside': 1, 'parking_meter': 1, 'promontory': 1})\n",
      "Cluster 11\n",
      "Counter({'sandbar': 4, 'breakwater': 3, 'wreck': 1, 'seashore': 1, 'volcano': 1, 'lakeside': 1, 'coil': 1})\n",
      "Cluster 12\n",
      "Counter({'promontory': 5, 'seashore': 4, 'cliff': 3, 'breakwater': 3, 'geyser': 1, 'castle': 1, 'lakeside': 1, 'maze': 1, 'wreck': 1, 'sandbar': 1})\n",
      "Cluster 13\n",
      "Counter({'promontory': 7, 'cliff': 6, 'seashore': 4, 'breakwater': 3, 'aircraft_carrier': 1})\n",
      "Cluster 14\n",
      "Counter({'seashore': 49, 'cliff': 47, 'promontory': 46, 'breakwater': 14, 'lakeside': 6, 'wreck': 5, 'valley': 4, 'beacon': 3, 'sandbar': 3, 'castle': 3, 'sea_lion': 2, 'stone_wall': 2, 'conch': 1, 'cliff_dwelling': 1, 'megalith': 1, 'jigsaw_puzzle': 1, 'sturgeon': 1, 'web_site': 1, 'volcano': 1, 'mountain_bike': 1, 'ruddy_turnstone': 1, 'oystercatcher': 1, 'albatross': 1, 'coral_reef': 1, 'geyser': 1, 'Bernese_mountain_dog': 1})\n"
     ]
    }
   ],
   "source": [
    "for j in range(0,15):\n",
    "    print(\"Cluster {}\".format(j))\n",
    "    cluster_type = []\n",
    "    for img_path in glob(\"output/cluster{}/*\".format(j)):\n",
    "        img = image.load_img(img_path, target_size=(224, 224))\n",
    "        x = image.img_to_array(img)\n",
    "        x = np.expand_dims(x, axis=0)\n",
    "        x = preprocess_input(x)\n",
    "        preds = model.predict(x)\n",
    "        for i in np.array(decode_predictions(preds, top=3)[0])[:,1]:\n",
    "            cluster_type.append(i)\n",
    "    print(collections.Counter(cluster_type))"
   ]
  },
  {
   "cell_type": "code",
   "execution_count": null,
   "metadata": {},
   "outputs": [],
   "source": []
  }
 ],
 "metadata": {
  "kernelspec": {
   "display_name": "Python [conda env:photo]",
   "language": "python",
   "name": "conda-env-photo-py"
  },
  "language_info": {
   "codemirror_mode": {
    "name": "ipython",
    "version": 3
   },
   "file_extension": ".py",
   "mimetype": "text/x-python",
   "name": "python",
   "nbconvert_exporter": "python",
   "pygments_lexer": "ipython3",
   "version": "3.7.3"
  }
 },
 "nbformat": 4,
 "nbformat_minor": 2
}
